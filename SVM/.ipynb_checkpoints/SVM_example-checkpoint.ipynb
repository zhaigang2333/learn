{
 "cells": [
  {
   "cell_type": "markdown",
   "metadata": {},
   "source": [
    "[svm学习，讲的很好的一篇推导]：（https://blog.csdn.net/c406495762/article/details/78072313#2-smo%E7%AE%97%E6%B3%95）"
   ]
  },
  {
   "cell_type": "markdown",
   "metadata": {},
   "source": [
    "[svm基础-推导，与上面的差不多]：https://zhuanlan.zhihu.com/p/31886934\n",
    "[拉格朗日乘子法]：https://www.zhihu.com/question/38586401"
   ]
  }
 ],
 "metadata": {
  "kernelspec": {
   "display_name": "Python 3",
   "language": "python",
   "name": "python3"
  },
  "language_info": {
   "codemirror_mode": {
    "name": "ipython",
    "version": 3
   },
   "file_extension": ".py",
   "mimetype": "text/x-python",
   "name": "python",
   "nbconvert_exporter": "python",
   "pygments_lexer": "ipython3",
   "version": "3.7.3"
  }
 },
 "nbformat": 4,
 "nbformat_minor": 2
}
